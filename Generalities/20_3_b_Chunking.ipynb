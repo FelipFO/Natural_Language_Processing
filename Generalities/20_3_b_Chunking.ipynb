{
  "nbformat": 4,
  "nbformat_minor": 0,
  "metadata": {
    "colab": {
      "provenance": []
    },
    "kernelspec": {
      "name": "python3",
      "display_name": "Python 3"
    },
    "language_info": {
      "name": "python"
    }
  },
  "cells": [
    {
      "cell_type": "code",
      "source": [
        "# Installing the necessary libraries\n",
        "!pip install -qU langchain-text-splitters > /dev/null\n",
        "!pip install --quiet langchain_experimental langchain_openai > /dev/null"
      ],
      "metadata": {
        "id": "F2pOcAwOrxYq"
      },
      "execution_count": null,
      "outputs": []
    },
    {
      "cell_type": "code",
      "source": [
        "# Importing getpass to enter the OpenAI API Key\n",
        "import getpass\n",
        "\n",
        "openai_api_key = getpass.getpass(prompt='Enter your OpenAI API Key: ')"
      ],
      "metadata": {
        "colab": {
          "base_uri": "https://localhost:8080/"
        },
        "id": "hzUMaLyI2Rh0",
        "outputId": "411cf3f5-bb7b-47d4-a5db-d7af81ca8216"
      },
      "execution_count": null,
      "outputs": [
        {
          "name": "stdout",
          "output_type": "stream",
          "text": [
            "Enter your OpenAI API Key: ··········\n"
          ]
        }
      ]
    },
    {
      "cell_type": "code",
      "source": [
        "# Getting the Lorem Ipsum text to create chunks later with Character Text Splitter\n",
        "!wget https://raw.githubusercontent.com/inconvergent/lqn/master/data/lorem.txt"
      ],
      "metadata": {
        "colab": {
          "base_uri": "https://localhost:8080/"
        },
        "id": "uWMKuAc_0yzw",
        "outputId": "753d8f0f-637c-46c6-885d-2085a62b6bfc"
      },
      "execution_count": null,
      "outputs": [
        {
          "output_type": "stream",
          "name": "stdout",
          "text": [
            "--2024-05-23 19:39:15--  https://raw.githubusercontent.com/inconvergent/lqn/master/data/lorem.txt\n",
            "Resolving raw.githubusercontent.com (raw.githubusercontent.com)... 185.199.110.133, 185.199.108.133, 185.199.111.133, ...\n",
            "Connecting to raw.githubusercontent.com (raw.githubusercontent.com)|185.199.110.133|:443... connected.\n",
            "HTTP request sent, awaiting response... 200 OK\n",
            "Length: 2111 (2.1K) [text/plain]\n",
            "Saving to: ‘lorem.txt’\n",
            "\n",
            "\rlorem.txt             0%[                    ]       0  --.-KB/s               \rlorem.txt           100%[===================>]   2.06K  --.-KB/s    in 0s      \n",
            "\n",
            "2024-05-23 19:39:15 (5.12 MB/s) - ‘lorem.txt’ saved [2111/2111]\n",
            "\n"
          ]
        }
      ]
    },
    {
      "cell_type": "code",
      "source": [
        "# Cleaning the text to eliminate the characters \"\\n\" from the text\n",
        "with open(\"/content/lorem.txt\", \"r\") as f:\n",
        "  lines = []\n",
        "  for line in f:\n",
        "    lines.append(line.strip())\n",
        "  lorem = \"\".join(lines)\n",
        "\n",
        "print(lorem)\n"
      ],
      "metadata": {
        "colab": {
          "base_uri": "https://localhost:8080/"
        },
        "id": "wqwls6UFDDfq",
        "outputId": "c4a33b19-438c-42c3-f2fd-c36ad3770d70"
      },
      "execution_count": null,
      "outputs": [
        {
          "output_type": "stream",
          "name": "stdout",
          "text": [
            "Lorem ipsum dolor sit amet, consectetur adipiscing elit. Aliquam ultrices duieros, eget consequat magna sagittis accumsan. Cras pretium sapien ut orcitincidunt, ac laoreet ante ultricies. Morbi risus libero, gravida sed massased, blandit posuere lacus. Quisque faucibus elementum dui, id egestas turpisconsectetur a. Morbi pulvinar suscipit sem, eget suscipit enim facilisistempus. Nullam a nisi augue. Curabitur sed varius massa, eget viverra arcu.Donec dolor sem, faucibus ut mattis varius, consequat eu metus. Fusce elitvelit, ultricies ut libero ac, porttitor molestie ligula. Suspendisse vitaenisi felis. Mauris tempus ultrices diam sed rhoncus. Integer id interdum odio.Vivamus in est massa. Fusce dapibus lobortis sem ac tempor. Aenean id enim dui.Curabitur nec neque et ipsum molestie fringilla vitae nec metus.Etiam pretium vulputate magna non blandit. Nullam dapibus risus ipsum, quiseleifend dolor sodales eget. Aliquam erat volutpat. Nulla venenatis at anteeget bibendum. Mauris nec nibh ut enim facilisis fermentum. Sed ut facilisisquam, eget pharetra eros. Nam consequat massa fermentum maximus commodo. Fuscetincidunt risus vel sapien interdum tristique. Quisque vel felis lobortis,fermentum turpis nec, mollis risus. Etiam finibus urna at pellentesque maximus.Vestibulum gravida vehicula diam eget vulputate. Sed eu tincidunt dui.Phasellus porttitor blandit orci, id bibendum leo dapibus vel. In interdumneque tellus. Etiam hendrerit, sapien a efficitur eleifend, mi nibh malesuadasapien, quis placerat enim mauris nec dolor. Suspendisse sit amet mollis erat,vitae aliquam leo. Aliquam semper, lacus lobortis condimentum rutrum, diamnulla semper risus, sit amet accumsan eros metus non nisi. Etiam ornare nisl etelit dapibus, non sollicitudin purus rutrum.Pellentesque sodales volutpat faucibus. Vestibulum vitae semper nibh. Utrhoncus pharetra orci id sagittis. Praesent ac lacinia elit. Curabitur rhoncusneque sit amet semper rhoncus. Aliquam suscipit consequat ligula, eget viverraneque efficitur sit amet. Duis gravida ligula lorem, eu pretium erat pretiumut.\n"
          ]
        }
      ]
    },
    {
      "cell_type": "code",
      "source": [
        "# Creating a Character Text Splitter\n",
        "from langchain_text_splitters import CharacterTextSplitter\n",
        "\n",
        "text_splitter = CharacterTextSplitter(\n",
        "    separator= \" \",\n",
        "    chunk_size=40,\n",
        "    chunk_overlap=20,\n",
        "    is_separator_regex= False)"
      ],
      "metadata": {
        "id": "FQqz0dJKA6_F"
      },
      "execution_count": null,
      "outputs": []
    },
    {
      "cell_type": "code",
      "source": [
        "# Partitioning the data into chunks and checking the amount\n",
        "chunks = text_splitter.create_documents([lorem])\n",
        "print(len(chunks))"
      ],
      "metadata": {
        "colab": {
          "base_uri": "https://localhost:8080/"
        },
        "id": "yNAZnE6WBHjJ",
        "outputId": "0145eb29-e669-434d-e349-1ee85a7e02de"
      },
      "execution_count": null,
      "outputs": [
        {
          "output_type": "stream",
          "name": "stdout",
          "text": [
            "106\n"
          ]
        }
      ]
    },
    {
      "cell_type": "code",
      "source": [
        "# Checking the content of some chunks\n",
        "for i in range(0,5):\n",
        "  print(chunks[i])\n"
      ],
      "metadata": {
        "colab": {
          "base_uri": "https://localhost:8080/"
        },
        "id": "NYI8KMuMGGeV",
        "outputId": "52daa68a-589c-4439-c14c-d4f3babcb924"
      },
      "execution_count": null,
      "outputs": [
        {
          "output_type": "stream",
          "name": "stdout",
          "text": [
            "page_content='Lorem ipsum dolor sit amet, consectetur'\n",
            "page_content='amet, consectetur adipiscing elit.'\n",
            "page_content='adipiscing elit. Aliquam ultrices'\n",
            "page_content='Aliquam ultrices duieros, eget consequat'\n",
            "page_content='eget consequat magna sagittis accumsan.'\n"
          ]
        }
      ]
    },
    {
      "cell_type": "code",
      "source": [
        "# Importing necessary libraries\n",
        "from langchain_experimental.text_splitter import SemanticChunker\n",
        "from langchain_openai.embeddings import OpenAIEmbeddings"
      ],
      "metadata": {
        "id": "g2GEbj-w14m6"
      },
      "execution_count": null,
      "outputs": []
    },
    {
      "cell_type": "code",
      "source": [
        "# Creating a Character Text Splitter\n",
        "text_splitter = SemanticChunker(OpenAIEmbeddings(openai_api_key = openai_api_key))"
      ],
      "metadata": {
        "id": "tcFYlQXI2HNM"
      },
      "execution_count": null,
      "outputs": []
    },
    {
      "cell_type": "code",
      "source": [
        "# Creating a text in English to create chunks later with the Semantic Chunker\n",
        "semantic_text = \"Turritopsis dohrnii, also known as the immortal jellyfish, is a species of small, biologically immortal jellyfish[2][3] \\\n",
        "found worldwide in temperate to tropic waters. It is one of the few known cases of animals capable of reverting completely to a sexually \\\n",
        "immature, colonial stage after having reached sexual maturity as a solitary individual. Others include the jellyfish Laodicea undulata[4] \\\n",
        "and species of the genus Aurelia.[5] Like most other hydrozoans, T. dohrnii begin their lives as tiny, free-swimming larvae known as planulae. \\\n",
        "As a planula settles down, it gives rise to a colony of polyps that are attached to the sea floor. All the polyps and jellyfish arising from \\\n",
        "a single planula are genetically identical clones.[6] The polyps form into an extensively branched form, which is not commonly seen in most \\\n",
        "jellyfish. Jellyfish, also known as medusae, then bud off these polyps and continue their life in a free-swimming form, eventually becoming \\\n",
        "sexually mature. When sexually mature, they have been known to prey on other jellyfish species at a rapid pace. If the T. dohrnii jellyfish \\\n",
        "is exposed to environmental stress, physical assault, or is sick or old, it can revert to the polyp stage, forming a new polyp colony.[7] \\\n",
        "It does this through the cell development process of transdifferentiation, which alters the differentiated state of the cells and transforms \\\n",
        "them into new types of cells.\""
      ],
      "metadata": {
        "id": "X4l2qzfp4kRf"
      },
      "execution_count": null,
      "outputs": []
    },
    {
      "cell_type": "code",
      "source": [
        "# Partitioning the data into chunks and checking the amount\n",
        "chunks = text_splitter.create_documents([semantic_text])\n",
        "print(len(chunks))"
      ],
      "metadata": {
        "colab": {
          "base_uri": "https://localhost:8080/"
        },
        "id": "XwSzWt4X2f1H",
        "outputId": "d75306b8-79fe-4dd8-8f57-0f27cadee2e3"
      },
      "execution_count": null,
      "outputs": [
        {
          "output_type": "stream",
          "name": "stdout",
          "text": [
            "2\n"
          ]
        }
      ]
    },
    {
      "cell_type": "code",
      "source": [
        "# Checking the content of the chunks\n",
        "print(chunks[0])\n",
        "print(chunks[1])"
      ],
      "metadata": {
        "colab": {
          "base_uri": "https://localhost:8080/"
        },
        "id": "RKyn_iXA2oC4",
        "outputId": "259181be-ffce-4772-efae-3ee85dbcfea7"
      },
      "execution_count": null,
      "outputs": [
        {
          "output_type": "stream",
          "name": "stdout",
          "text": [
            "page_content='Turritopsis dohrnii, also known as the immortal jellyfish, is a species of small, biologically immortal jellyfish[2][3] found worldwide in temperate to tropic waters. It is one of the few known cases of animals capable of reverting completely to a sexually immature, colonial stage after having reached sexual maturity as a solitary individual. Others include the jellyfish Laodicea undulata[4] and species of the genus Aurelia.[5] Like most other hydrozoans, T. dohrnii begin their lives as tiny, free-swimming larvae known as planulae.'\n",
            "page_content='As a planula settles down, it gives rise to a colony of polyps that are attached to the sea floor. All the polyps and jellyfish arising from a single planula are genetically identical clones.[6] The polyps form into an extensively branched form, which is not commonly seen in most jellyfish. Jellyfish, also known as medusae, then bud off these polyps and continue their life in a free-swimming form, eventually becoming sexually mature. When sexually mature, they have been known to prey on other jellyfish species at a rapid pace. If the T. dohrnii jellyfish is exposed to environmental stress, physical assault, or is sick or old, it can revert to the polyp stage, forming a new polyp colony.[7] It does this through the cell development process of transdifferentiation, which alters the differentiated state of the cells and transforms them into new types of cells.'\n"
          ]
        }
      ]
    }
  ]
}