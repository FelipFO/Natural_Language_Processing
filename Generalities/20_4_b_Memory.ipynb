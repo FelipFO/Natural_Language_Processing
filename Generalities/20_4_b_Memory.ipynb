{
  "nbformat": 4,
  "nbformat_minor": 0,
  "metadata": {
    "colab": {
      "provenance": []
    },
    "kernelspec": {
      "name": "python3",
      "display_name": "Python 3"
    },
    "language_info": {
      "name": "python"
    }
  },
  "cells": [
    {
      "cell_type": "code",
      "source": [
        "# Installing the necessary libraries\n",
        "!pip install langchain > /dev/null\n",
        "!pip install -U langchain-openai > /dev/null"
      ],
      "metadata": {
        "id": "F2pOcAwOrxYq"
      },
      "execution_count": null,
      "outputs": []
    },
    {
      "cell_type": "code",
      "source": [
        "# Importing necessary libraries\n",
        "from langchain.chains import ConversationChain\n",
        "from langchain_openai import OpenAI\n",
        "from langchain.memory import ConversationBufferMemory, ConversationBufferWindowMemory, ConversationSummaryMemory, ConversationSummaryBufferMemory, ConversationTokenBufferMemory"
      ],
      "metadata": {
        "id": "L3Cl7geNHRxT"
      },
      "execution_count": null,
      "outputs": []
    },
    {
      "cell_type": "code",
      "source": [
        "# Importing getpass to enter the OpenAI API Key\n",
        "import getpass\n",
        "\n",
        "openai_api_key = getpass.getpass(prompt='Enter your OpenAI API Key: ')"
      ],
      "metadata": {
        "colab": {
          "base_uri": "https://localhost:8080/"
        },
        "id": "v8D8vx5RH8a0",
        "outputId": "7b4b74c7-4880-4b6f-f7a9-d2792440e9ed"
      },
      "execution_count": null,
      "outputs": [
        {
          "name": "stdout",
          "output_type": "stream",
          "text": [
            "Enter your OpenAI API Key: ··········\n"
          ]
        }
      ]
    },
    {
      "cell_type": "code",
      "source": [
        "# Calling an OpenAI model to create an llm object\n",
        "llm = OpenAI(temperature=0,  openai_api_key=openai_api_key)"
      ],
      "metadata": {
        "id": "t8ghgR62LRcp"
      },
      "execution_count": null,
      "outputs": []
    },
    {
      "cell_type": "code",
      "source": [
        "# Creating a conversation chain with buffer memory\n",
        "conversation = ConversationChain(\n",
        "    llm=llm,\n",
        "    verbose=True,\n",
        "    memory=ConversationBufferMemory()\n",
        ")"
      ],
      "metadata": {
        "id": "R0hcGjbTIF8M"
      },
      "execution_count": null,
      "outputs": []
    },
    {
      "cell_type": "code",
      "source": [
        "# Interacting with the model to see how the memory behaves\n",
        "conversation.predict(input=\"Hi, my name is Alan\")"
      ],
      "metadata": {
        "colab": {
          "base_uri": "https://localhost:8080/",
          "height": 281
        },
        "id": "oUw_KNbJNKgP",
        "outputId": "c3ac05d5-3c2f-4db8-9f1b-20821286506f"
      },
      "execution_count": null,
      "outputs": [
        {
          "output_type": "stream",
          "name": "stdout",
          "text": [
            "\n",
            "\n",
            "\u001b[1m> Entering new ConversationChain chain...\u001b[0m\n",
            "Prompt after formatting:\n",
            "\u001b[32;1m\u001b[1;3mThe following is a friendly conversation between a human and an AI. The AI is talkative and provides lots of specific details from its context. If the AI does not know the answer to a question, it truthfully says it does not know.\n",
            "\n",
            "Current conversation:\n",
            "\n",
            "Human: Hi, my name is Alan\n",
            "AI:\u001b[0m\n",
            "\n",
            "\u001b[1m> Finished chain.\u001b[0m\n"
          ]
        },
        {
          "output_type": "execute_result",
          "data": {
            "text/plain": [
              "\" Hello Alan, it's nice to meet you! My name is AI and I am an artificial intelligence designed to assist and communicate with humans. I am constantly learning and evolving, so I may not have all the answers, but I will do my best to help you. How can I assist you today?\""
            ],
            "application/vnd.google.colaboratory.intrinsic+json": {
              "type": "string"
            }
          },
          "metadata": {},
          "execution_count": 10
        }
      ]
    },
    {
      "cell_type": "code",
      "source": [
        "# Interacting with the model to see how the memory behaves\n",
        "conversation.predict(input=\"Can you tell me what is the capital of Finland?\")"
      ],
      "metadata": {
        "colab": {
          "base_uri": "https://localhost:8080/",
          "height": 298
        },
        "id": "Q9qqwX3nNs-F",
        "outputId": "a93ae3e9-7d2a-40ea-d82f-15fbb3a84ba7"
      },
      "execution_count": null,
      "outputs": [
        {
          "output_type": "stream",
          "name": "stdout",
          "text": [
            "\n",
            "\n",
            "\u001b[1m> Entering new ConversationChain chain...\u001b[0m\n",
            "Prompt after formatting:\n",
            "\u001b[32;1m\u001b[1;3mThe following is a friendly conversation between a human and an AI. The AI is talkative and provides lots of specific details from its context. If the AI does not know the answer to a question, it truthfully says it does not know.\n",
            "\n",
            "Current conversation:\n",
            "Human: Hi, my name is Alan\n",
            "AI:  Hello Alan, it's nice to meet you! My name is AI and I am an artificial intelligence designed to assist and communicate with humans. I am constantly learning and evolving, so I may not have all the answers, but I will do my best to help you. How can I assist you today?\n",
            "Human: Can you tell me what is the capital of Finland?\n",
            "AI:\u001b[0m\n",
            "\n",
            "\u001b[1m> Finished chain.\u001b[0m\n"
          ]
        },
        {
          "output_type": "execute_result",
          "data": {
            "text/plain": [
              "' The capital of Finland is Helsinki. It is located on the southern coast of the country and is the largest city in Finland. It is known for its beautiful architecture, vibrant culture, and high quality of life. Did you know that Helsinki was founded in 1550 by King Gustav Vasa of Sweden?'"
            ],
            "application/vnd.google.colaboratory.intrinsic+json": {
              "type": "string"
            }
          },
          "metadata": {},
          "execution_count": 11
        }
      ]
    },
    {
      "cell_type": "code",
      "source": [
        "# Interacting with the model to see how the memory behaves\n",
        "conversation.predict(input=\"But what is the oldest city in Finland?\")"
      ],
      "metadata": {
        "colab": {
          "base_uri": "https://localhost:8080/",
          "height": 333
        },
        "id": "lkxt9eOWN7Cn",
        "outputId": "ce4d633f-55a6-4828-e687-598ef8eba783"
      },
      "execution_count": null,
      "outputs": [
        {
          "output_type": "stream",
          "name": "stdout",
          "text": [
            "\n",
            "\n",
            "\u001b[1m> Entering new ConversationChain chain...\u001b[0m\n",
            "Prompt after formatting:\n",
            "\u001b[32;1m\u001b[1;3mThe following is a friendly conversation between a human and an AI. The AI is talkative and provides lots of specific details from its context. If the AI does not know the answer to a question, it truthfully says it does not know.\n",
            "\n",
            "Current conversation:\n",
            "Human: Hi, my name is Alan\n",
            "AI:  Hello Alan, it's nice to meet you! My name is AI and I am an artificial intelligence designed to assist and communicate with humans. I am constantly learning and evolving, so I may not have all the answers, but I will do my best to help you. How can I assist you today?\n",
            "Human: Can you tell me what is the capital of Finland?\n",
            "AI:  The capital of Finland is Helsinki. It is located on the southern coast of the country and is the largest city in Finland. It is known for its beautiful architecture, vibrant culture, and high quality of life. Did you know that Helsinki was founded in 1550 by King Gustav Vasa of Sweden?\n",
            "Human: But what is the oldest city in Finland?\n",
            "AI:\u001b[0m\n",
            "\n",
            "\u001b[1m> Finished chain.\u001b[0m\n"
          ]
        },
        {
          "output_type": "execute_result",
          "data": {
            "text/plain": [
              "' The oldest city in Finland is Turku, which was founded in the 13th century. It was the capital of Finland until 1812 and is known for its medieval castle, Turku Cathedral, and vibrant student culture. Fun fact: Turku was also the European Capital of Culture in 2011. Is there anything else you would like to know about Finland?'"
            ],
            "application/vnd.google.colaboratory.intrinsic+json": {
              "type": "string"
            }
          },
          "metadata": {},
          "execution_count": 12
        }
      ]
    },
    {
      "cell_type": "code",
      "source": [
        "# Creating a conversation chain with buffer window memory\n",
        "conversation_window = ConversationChain(\n",
        "    llm=llm,\n",
        "    verbose=True,\n",
        "    memory=ConversationBufferWindowMemory(k=1)\n",
        ")"
      ],
      "metadata": {
        "id": "GLsTilPnIB_k"
      },
      "execution_count": null,
      "outputs": []
    },
    {
      "cell_type": "code",
      "source": [
        "# Interacting with the model to see how the memory behaves\n",
        "conversation_window.predict(input=\"Hi, my name is Alan\")"
      ],
      "metadata": {
        "colab": {
          "base_uri": "https://localhost:8080/",
          "height": 264
        },
        "id": "I8IJlGk_OHc9",
        "outputId": "e1324bfa-8d36-4358-fac8-9fad6e098773"
      },
      "execution_count": null,
      "outputs": [
        {
          "output_type": "stream",
          "name": "stdout",
          "text": [
            "\n",
            "\n",
            "\u001b[1m> Entering new ConversationChain chain...\u001b[0m\n",
            "Prompt after formatting:\n",
            "\u001b[32;1m\u001b[1;3mThe following is a friendly conversation between a human and an AI. The AI is talkative and provides lots of specific details from its context. If the AI does not know the answer to a question, it truthfully says it does not know.\n",
            "\n",
            "Current conversation:\n",
            "\n",
            "Human: Hi, my name is Alan\n",
            "AI:\u001b[0m\n",
            "\n",
            "\u001b[1m> Finished chain.\u001b[0m\n"
          ]
        },
        {
          "output_type": "execute_result",
          "data": {
            "text/plain": [
              "\" Hello Alan, it's nice to meet you! My name is AI and I am an artificial intelligence designed to assist and communicate with humans. How can I help you today?\""
            ],
            "application/vnd.google.colaboratory.intrinsic+json": {
              "type": "string"
            }
          },
          "metadata": {},
          "execution_count": 14
        }
      ]
    },
    {
      "cell_type": "code",
      "source": [
        "# Interacting with the model to see how the memory behaves\n",
        "conversation_window.predict(input=\"Can you tell me what is the capital of Finland?\")"
      ],
      "metadata": {
        "colab": {
          "base_uri": "https://localhost:8080/",
          "height": 298
        },
        "id": "62jYbNdmONBZ",
        "outputId": "504d58b7-0018-44fe-87cd-8ceef9947e9e"
      },
      "execution_count": null,
      "outputs": [
        {
          "output_type": "stream",
          "name": "stdout",
          "text": [
            "\n",
            "\n",
            "\u001b[1m> Entering new ConversationChain chain...\u001b[0m\n",
            "Prompt after formatting:\n",
            "\u001b[32;1m\u001b[1;3mThe following is a friendly conversation between a human and an AI. The AI is talkative and provides lots of specific details from its context. If the AI does not know the answer to a question, it truthfully says it does not know.\n",
            "\n",
            "Current conversation:\n",
            "Human: Hi, my name is Alan\n",
            "AI:  Hello Alan, it's nice to meet you! My name is AI and I am an artificial intelligence designed to assist and communicate with humans. How can I help you today?\n",
            "Human: Can you tell me what is the capital of Finland?\n",
            "AI:\u001b[0m\n",
            "\n",
            "\u001b[1m> Finished chain.\u001b[0m\n"
          ]
        },
        {
          "output_type": "execute_result",
          "data": {
            "text/plain": [
              "' The capital of Finland is Helsinki. It is located on the southern coast of the country and is the largest city in Finland with a population of over 650,000 people. Helsinki is known for its beautiful architecture, vibrant culture, and high quality of life. Did you know that it was founded in 1550 by King Gustav Vasa of Sweden?'"
            ],
            "application/vnd.google.colaboratory.intrinsic+json": {
              "type": "string"
            }
          },
          "metadata": {},
          "execution_count": 15
        }
      ]
    },
    {
      "cell_type": "code",
      "source": [
        "# Interacting with the model to see how the memory behaves\n",
        "conversation_window.predict(input=\"But what is the oldest city in Finland?\")"
      ],
      "metadata": {
        "colab": {
          "base_uri": "https://localhost:8080/",
          "height": 298
        },
        "id": "pOsUTMECOOCf",
        "outputId": "ce80b1b1-4334-4a90-e2ae-7a0044601f2f"
      },
      "execution_count": null,
      "outputs": [
        {
          "output_type": "stream",
          "name": "stdout",
          "text": [
            "\n",
            "\n",
            "\u001b[1m> Entering new ConversationChain chain...\u001b[0m\n",
            "Prompt after formatting:\n",
            "\u001b[32;1m\u001b[1;3mThe following is a friendly conversation between a human and an AI. The AI is talkative and provides lots of specific details from its context. If the AI does not know the answer to a question, it truthfully says it does not know.\n",
            "\n",
            "Current conversation:\n",
            "Human: Can you tell me what is the capital of Finland?\n",
            "AI:  The capital of Finland is Helsinki. It is located on the southern coast of the country and is the largest city in Finland with a population of over 650,000 people. Helsinki is known for its beautiful architecture, vibrant culture, and high quality of life. Did you know that it was founded in 1550 by King Gustav Vasa of Sweden?\n",
            "Human: But what is the oldest city in Finland?\n",
            "AI:\u001b[0m\n",
            "\n",
            "\u001b[1m> Finished chain.\u001b[0m\n"
          ]
        },
        {
          "output_type": "execute_result",
          "data": {
            "text/plain": [
              "' The oldest city in Finland is Turku, which was founded in the 13th century. It was the capital of Finland until 1812 when it was replaced by Helsinki. Turku is located on the southwestern coast of Finland and is known for its medieval castle, vibrant riverfront, and historical significance.'"
            ],
            "application/vnd.google.colaboratory.intrinsic+json": {
              "type": "string"
            }
          },
          "metadata": {},
          "execution_count": 16
        }
      ]
    },
    {
      "cell_type": "code",
      "source": [
        "# Creating a conversation chain with summary memory\n",
        "conversation_summary = ConversationChain(\n",
        "    llm=llm,\n",
        "    verbose=True,\n",
        "    memory= ConversationSummaryMemory(llm=llm)\n",
        ")"
      ],
      "metadata": {
        "id": "vkmhjaghLo70"
      },
      "execution_count": null,
      "outputs": []
    },
    {
      "cell_type": "code",
      "source": [
        "# Interacting with the model to see how the memory behaves\n",
        "conversation_summary.predict(input=\"Hi, my name is Alan\")"
      ],
      "metadata": {
        "colab": {
          "base_uri": "https://localhost:8080/",
          "height": 264
        },
        "id": "7kAmyy4MOIIu",
        "outputId": "a8c0db66-a176-4cad-9ad9-fd877ad82402"
      },
      "execution_count": null,
      "outputs": [
        {
          "output_type": "stream",
          "name": "stdout",
          "text": [
            "\n",
            "\n",
            "\u001b[1m> Entering new ConversationChain chain...\u001b[0m\n",
            "Prompt after formatting:\n",
            "\u001b[32;1m\u001b[1;3mThe following is a friendly conversation between a human and an AI. The AI is talkative and provides lots of specific details from its context. If the AI does not know the answer to a question, it truthfully says it does not know.\n",
            "\n",
            "Current conversation:\n",
            "\n",
            "Human: Hi, my name is Alan\n",
            "AI:\u001b[0m\n",
            "\n",
            "\u001b[1m> Finished chain.\u001b[0m\n"
          ]
        },
        {
          "output_type": "execute_result",
          "data": {
            "text/plain": [
              "\" Hello Alan, it's nice to meet you! My name is AI and I am an artificial intelligence designed to assist and communicate with humans. How can I help you today?\""
            ],
            "application/vnd.google.colaboratory.intrinsic+json": {
              "type": "string"
            }
          },
          "metadata": {},
          "execution_count": 24
        }
      ]
    },
    {
      "cell_type": "code",
      "source": [
        "# Interacting with the model to see how the memory behaves\n",
        "conversation_summary.predict(input=\"Can you tell me what is the capital of Finland?\")"
      ],
      "metadata": {
        "colab": {
          "base_uri": "https://localhost:8080/",
          "height": 316
        },
        "id": "0mNWFOYVONVg",
        "outputId": "b6fb993d-c505-4747-ec01-455a2ab284a9"
      },
      "execution_count": null,
      "outputs": [
        {
          "output_type": "stream",
          "name": "stdout",
          "text": [
            "\n",
            "\n",
            "\u001b[1m> Entering new ConversationChain chain...\u001b[0m\n",
            "Prompt after formatting:\n",
            "\u001b[32;1m\u001b[1;3mThe following is a friendly conversation between a human and an AI. The AI is talkative and provides lots of specific details from its context. If the AI does not know the answer to a question, it truthfully says it does not know.\n",
            "\n",
            "Current conversation:\n",
            "\n",
            "The human introduces themselves as Alan and the AI responds by introducing itself as an artificial intelligence designed to assist and communicate with humans. The AI offers its assistance to Alan.\n",
            "Human: Can you tell me what is the capital of Finland?\n",
            "AI:\u001b[0m\n",
            "\n",
            "\u001b[1m> Finished chain.\u001b[0m\n"
          ]
        },
        {
          "output_type": "execute_result",
          "data": {
            "text/plain": [
              "' The capital of Finland is Helsinki. It is located on the southern coast of the country and is the largest city in Finland. It is known for its beautiful architecture, vibrant culture, and high quality of life. Did you know that Helsinki was founded in 1550 by King Gustav Vasa of Sweden? It was originally named Helsingfors, which means \"Helsinge rapids\" in Swedish.'"
            ],
            "application/vnd.google.colaboratory.intrinsic+json": {
              "type": "string"
            }
          },
          "metadata": {},
          "execution_count": 25
        }
      ]
    },
    {
      "cell_type": "code",
      "source": [
        "# Interacting with the model to see how the memory behaves\n",
        "conversation_summary.predict(input=\"But what is the oldest city in Finland?\")"
      ],
      "metadata": {
        "colab": {
          "base_uri": "https://localhost:8080/",
          "height": 298
        },
        "id": "YW3l1fywONoc",
        "outputId": "77e08759-7ca2-495e-a7ff-b267c6eb112b"
      },
      "execution_count": null,
      "outputs": [
        {
          "output_type": "stream",
          "name": "stdout",
          "text": [
            "\n",
            "\n",
            "\u001b[1m> Entering new ConversationChain chain...\u001b[0m\n",
            "Prompt after formatting:\n",
            "\u001b[32;1m\u001b[1;3mThe following is a friendly conversation between a human and an AI. The AI is talkative and provides lots of specific details from its context. If the AI does not know the answer to a question, it truthfully says it does not know.\n",
            "\n",
            "Current conversation:\n",
            "\n",
            "The human introduces themselves as Alan and the AI responds by introducing itself as an artificial intelligence designed to assist and communicate with humans. The AI offers its assistance to Alan and shares that the capital of Finland is Helsinki, which was founded in 1550 by King Gustav Vasa of Sweden and is known for its beautiful architecture, vibrant culture, and high quality of life.\n",
            "Human: But what is the oldest city in Finland?\n",
            "AI:\u001b[0m\n",
            "\n",
            "\u001b[1m> Finished chain.\u001b[0m\n"
          ]
        },
        {
          "output_type": "execute_result",
          "data": {
            "text/plain": [
              "' The oldest city in Finland is Turku, which was founded in the 13th century by Swedish crusaders. It was the capital of Finland until 1812 and is known for its medieval castle, charming old town, and rich history.'"
            ],
            "application/vnd.google.colaboratory.intrinsic+json": {
              "type": "string"
            }
          },
          "metadata": {},
          "execution_count": 26
        }
      ]
    },
    {
      "cell_type": "code",
      "source": [
        "# Creating a conversation chain with summary buffer memory\n",
        "conversation_summary_buffer = ConversationChain(\n",
        "    llm=llm,\n",
        "    verbose=True,\n",
        "    memory= ConversationSummaryBufferMemory(llm=llm, max_token_limit=20)\n",
        ")"
      ],
      "metadata": {
        "id": "th_bd9bVRANR"
      },
      "execution_count": null,
      "outputs": []
    },
    {
      "cell_type": "code",
      "source": [
        "# Interacting with the model to see how the memory behaves\n",
        "conversation_summary_buffer.predict(input=\"Hi, my name is Alan\")"
      ],
      "metadata": {
        "colab": {
          "base_uri": "https://localhost:8080/",
          "height": 264
        },
        "id": "7CDFSGr7RB21",
        "outputId": "6a6b4ba4-5dce-4500-c0ba-04584f89800d"
      },
      "execution_count": null,
      "outputs": [
        {
          "output_type": "stream",
          "name": "stdout",
          "text": [
            "\n",
            "\n",
            "\u001b[1m> Entering new ConversationChain chain...\u001b[0m\n",
            "Prompt after formatting:\n",
            "\u001b[32;1m\u001b[1;3mThe following is a friendly conversation between a human and an AI. The AI is talkative and provides lots of specific details from its context. If the AI does not know the answer to a question, it truthfully says it does not know.\n",
            "\n",
            "Current conversation:\n",
            "\n",
            "Human: Hi, my name is Alan\n",
            "AI:\u001b[0m\n",
            "\n",
            "\u001b[1m> Finished chain.\u001b[0m\n"
          ]
        },
        {
          "output_type": "execute_result",
          "data": {
            "text/plain": [
              "\" Hello Alan, it's nice to meet you! My name is AI and I am an artificial intelligence designed to assist and communicate with humans. How can I help you today?\""
            ],
            "application/vnd.google.colaboratory.intrinsic+json": {
              "type": "string"
            }
          },
          "metadata": {},
          "execution_count": 29
        }
      ]
    },
    {
      "cell_type": "code",
      "source": [
        "# Interacting with the model to see how the memory behaves\n",
        "conversation_summary_buffer.predict(input=\"Can you tell me what is the capital of Finland?\")"
      ],
      "metadata": {
        "colab": {
          "base_uri": "https://localhost:8080/",
          "height": 316
        },
        "id": "nrD13wA7RCYS",
        "outputId": "eab53022-5638-4674-dbcc-9886ba4cda2d"
      },
      "execution_count": null,
      "outputs": [
        {
          "output_type": "stream",
          "name": "stdout",
          "text": [
            "\n",
            "\n",
            "\u001b[1m> Entering new ConversationChain chain...\u001b[0m\n",
            "Prompt after formatting:\n",
            "\u001b[32;1m\u001b[1;3mThe following is a friendly conversation between a human and an AI. The AI is talkative and provides lots of specific details from its context. If the AI does not know the answer to a question, it truthfully says it does not know.\n",
            "\n",
            "Current conversation:\n",
            "System: \n",
            "The human introduces themselves as Alan and the AI responds by introducing itself as an artificial intelligence designed to assist and communicate with humans. The AI offers its assistance to Alan.\n",
            "Human: Can you tell me what is the capital of Finland?\n",
            "AI:\u001b[0m\n",
            "\n",
            "\u001b[1m> Finished chain.\u001b[0m\n"
          ]
        },
        {
          "output_type": "execute_result",
          "data": {
            "text/plain": [
              "' The capital of Finland is Helsinki. It is located on the southern coast of the country and is the largest city in Finland. It is known for its beautiful architecture, vibrant culture, and high quality of life. Did you know that Helsinki was founded in 1550 by King Gustav Vasa of Sweden? It was originally named Helsingfors, which means \"Helsinge rapids\" in Swedish.'"
            ],
            "application/vnd.google.colaboratory.intrinsic+json": {
              "type": "string"
            }
          },
          "metadata": {},
          "execution_count": 30
        }
      ]
    },
    {
      "cell_type": "code",
      "source": [
        "# Interacting with the model to see how the memory behaves\n",
        "conversation_summary_buffer.predict(input=\"But what is the oldest city in Finland?\")"
      ],
      "metadata": {
        "colab": {
          "base_uri": "https://localhost:8080/",
          "height": 298
        },
        "id": "Q24r5kKaRCoQ",
        "outputId": "4b45003c-6ba6-4586-aefb-0e468f5e84a5"
      },
      "execution_count": null,
      "outputs": [
        {
          "output_type": "stream",
          "name": "stdout",
          "text": [
            "\n",
            "\n",
            "\u001b[1m> Entering new ConversationChain chain...\u001b[0m\n",
            "Prompt after formatting:\n",
            "\u001b[32;1m\u001b[1;3mThe following is a friendly conversation between a human and an AI. The AI is talkative and provides lots of specific details from its context. If the AI does not know the answer to a question, it truthfully says it does not know.\n",
            "\n",
            "Current conversation:\n",
            "System: \n",
            "The human introduces themselves as Alan and the AI responds by introducing itself as an artificial intelligence designed to assist and communicate with humans. The AI offers its assistance to Alan and shares that the capital of Finland is Helsinki, which was founded in 1550 by King Gustav Vasa of Sweden and is known for its beautiful architecture, vibrant culture, and high quality of life.\n",
            "Human: But what is the oldest city in Finland?\n",
            "AI:\u001b[0m\n",
            "\n",
            "\u001b[1m> Finished chain.\u001b[0m\n"
          ]
        },
        {
          "output_type": "execute_result",
          "data": {
            "text/plain": [
              "' The oldest city in Finland is Turku, which was founded in the 13th century by Swedish crusaders. It was the capital of Finland until 1812 and is known for its medieval castle, charming old town, and rich history.'"
            ],
            "application/vnd.google.colaboratory.intrinsic+json": {
              "type": "string"
            }
          },
          "metadata": {},
          "execution_count": 31
        }
      ]
    },
    {
      "cell_type": "code",
      "source": [
        "# Creating a conversation chain with token buffer memory\n",
        "conversation_tokens = ConversationChain(\n",
        "    llm=llm,\n",
        "    verbose=True,\n",
        "    memory= ConversationTokenBufferMemory(llm=llm, max_token_limit=100)\n",
        ")"
      ],
      "metadata": {
        "id": "kYm_1Q_5Rv3h"
      },
      "execution_count": null,
      "outputs": []
    },
    {
      "cell_type": "code",
      "source": [
        "# Interacting with the model to see how the memory behaves\n",
        "conversation_tokens.predict(input=\"Hi, my name is Alan\")"
      ],
      "metadata": {
        "colab": {
          "base_uri": "https://localhost:8080/",
          "height": 264
        },
        "id": "DP9PasmvRtfu",
        "outputId": "0b088ffa-47ef-4454-fee3-7dc5cab69abd"
      },
      "execution_count": null,
      "outputs": [
        {
          "output_type": "stream",
          "name": "stdout",
          "text": [
            "\n",
            "\n",
            "\u001b[1m> Entering new ConversationChain chain...\u001b[0m\n",
            "Prompt after formatting:\n",
            "\u001b[32;1m\u001b[1;3mThe following is a friendly conversation between a human and an AI. The AI is talkative and provides lots of specific details from its context. If the AI does not know the answer to a question, it truthfully says it does not know.\n",
            "\n",
            "Current conversation:\n",
            "\n",
            "Human: Hi, my name is Alan\n",
            "AI:\u001b[0m\n",
            "\n",
            "\u001b[1m> Finished chain.\u001b[0m\n"
          ]
        },
        {
          "output_type": "execute_result",
          "data": {
            "text/plain": [
              "\" Hello Alan, it's nice to meet you! My name is AI and I am an artificial intelligence designed to assist and communicate with humans. How can I help you today?\""
            ],
            "application/vnd.google.colaboratory.intrinsic+json": {
              "type": "string"
            }
          },
          "metadata": {},
          "execution_count": 37
        }
      ]
    },
    {
      "cell_type": "code",
      "source": [
        "# Interacting with the model to see how the memory behaves\n",
        "conversation_tokens.predict(input=\"Can you tell me what is the capital of Finland?\")"
      ],
      "metadata": {
        "colab": {
          "base_uri": "https://localhost:8080/",
          "height": 298
        },
        "id": "g82X4swrSB3Z",
        "outputId": "ad6d03df-4f78-4294-bb11-11655c61d1c0"
      },
      "execution_count": null,
      "outputs": [
        {
          "output_type": "stream",
          "name": "stdout",
          "text": [
            "\n",
            "\n",
            "\u001b[1m> Entering new ConversationChain chain...\u001b[0m\n",
            "Prompt after formatting:\n",
            "\u001b[32;1m\u001b[1;3mThe following is a friendly conversation between a human and an AI. The AI is talkative and provides lots of specific details from its context. If the AI does not know the answer to a question, it truthfully says it does not know.\n",
            "\n",
            "Current conversation:\n",
            "Human: Hi, my name is Alan\n",
            "AI:  Hello Alan, it's nice to meet you! My name is AI and I am an artificial intelligence designed to assist and communicate with humans. How can I help you today?\n",
            "Human: Can you tell me what is the capital of Finland?\n",
            "AI:\u001b[0m\n",
            "\n",
            "\u001b[1m> Finished chain.\u001b[0m\n"
          ]
        },
        {
          "output_type": "execute_result",
          "data": {
            "text/plain": [
              "' The capital of Finland is Helsinki. It is located on the southern coast of the country and is the largest city in Finland with a population of over 650,000 people. Helsinki is known for its beautiful architecture, vibrant culture, and high quality of life. Did you know that it was founded in 1550 by King Gustav Vasa of Sweden?'"
            ],
            "application/vnd.google.colaboratory.intrinsic+json": {
              "type": "string"
            }
          },
          "metadata": {},
          "execution_count": 38
        }
      ]
    },
    {
      "cell_type": "code",
      "source": [
        "# Interacting with the model to see how the memory behaves\n",
        "conversation_tokens.predict(input=\"But what is the oldest city in Finland?\")"
      ],
      "metadata": {
        "colab": {
          "base_uri": "https://localhost:8080/",
          "height": 298
        },
        "id": "HlMbf68bSC7L",
        "outputId": "fe82831f-bd2b-4343-f773-5c3987a90225"
      },
      "execution_count": null,
      "outputs": [
        {
          "output_type": "stream",
          "name": "stdout",
          "text": [
            "\n",
            "\n",
            "\u001b[1m> Entering new ConversationChain chain...\u001b[0m\n",
            "Prompt after formatting:\n",
            "\u001b[32;1m\u001b[1;3mThe following is a friendly conversation between a human and an AI. The AI is talkative and provides lots of specific details from its context. If the AI does not know the answer to a question, it truthfully says it does not know.\n",
            "\n",
            "Current conversation:\n",
            "Human: Can you tell me what is the capital of Finland?\n",
            "AI:  The capital of Finland is Helsinki. It is located on the southern coast of the country and is the largest city in Finland with a population of over 650,000 people. Helsinki is known for its beautiful architecture, vibrant culture, and high quality of life. Did you know that it was founded in 1550 by King Gustav Vasa of Sweden?\n",
            "Human: But what is the oldest city in Finland?\n",
            "AI:\u001b[0m\n",
            "\n",
            "\u001b[1m> Finished chain.\u001b[0m\n"
          ]
        },
        {
          "output_type": "execute_result",
          "data": {
            "text/plain": [
              "' The oldest city in Finland is Turku, which was founded in the 13th century. It was the capital of Finland until 1812 when it was replaced by Helsinki. Turku is located on the southwestern coast of Finland and is known for its medieval castle, vibrant riverfront, and historic buildings.'"
            ],
            "application/vnd.google.colaboratory.intrinsic+json": {
              "type": "string"
            }
          },
          "metadata": {},
          "execution_count": 39
        }
      ]
    }
  ]
}