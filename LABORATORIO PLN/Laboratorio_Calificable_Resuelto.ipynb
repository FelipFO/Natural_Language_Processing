{
 "cells": [
  {
   "cell_type": "markdown",
   "metadata": {
    "deletable": false,
    "editable": false,
    "nbgrader": {
     "cell_type": "markdown",
     "checksum": "4da17db06069ca5e606605a9db4ed534",
     "grade": false,
     "grade_id": "cell-1f3623b0227b2890",
     "locked": true,
     "schema_version": 3,
     "solution": false,
     "task": false
    }
   },
   "source": [
    "# Laboratorio: Clasificación de sentimientos\n",
    "\n",
    "El propósito de este laboratorio es la construcción de un clasificardor de críticas de diferentes tipos de productos/servicios. Para ello es indispensable que primero hayan realizado el Tutorial. Este laboratorio es calificable, la nota máxima es de 100 puntos."
   ]
  },
  {
   "cell_type": "code",
   "execution_count": 1,
   "metadata": {
    "deletable": false,
    "editable": false,
    "nbgrader": {
     "cell_type": "code",
     "checksum": "ab76ae1878490b9b68fc41faf56b3bea",
     "grade": false,
     "grade_id": "cell-4beb51d9364446c0",
     "locked": true,
     "schema_version": 3,
     "solution": false,
     "task": false
    }
   },
   "outputs": [
    {
     "name": "stderr",
     "output_type": "stream",
     "text": [
      "[nltk_data] Downloading package stopwords to /home/jovyan/nltk_data...\n",
      "[nltk_data]   Unzipping corpora/stopwords.zip.\n"
     ]
    },
    {
     "data": {
      "text/plain": [
       "True"
      ]
     },
     "execution_count": 1,
     "metadata": {},
     "output_type": "execute_result"
    }
   ],
   "source": [
    "# Importación de librerías, no olviden ejecutar esta celda.\n",
    "from sklearn.feature_extraction.text import CountVectorizer\n",
    "from sklearn.model_selection import train_test_split\n",
    "from sklearn.naive_bayes import MultinomialNB\n",
    "from sklearn.metrics import classification_report, confusion_matrix, accuracy_score\n",
    "import matplotlib.pyplot as plt\n",
    "from nltk.corpus import stopwords\n",
    "import seaborn as sns\n",
    "import re\n",
    "import nltk \n",
    "import numpy as np\n",
    "stemmer = nltk.stem.SnowballStemmer('spanish')\n",
    "nltk.download('stopwords')"
   ]
  },
  {
   "cell_type": "markdown",
   "metadata": {
    "deletable": false,
    "editable": false,
    "nbgrader": {
     "cell_type": "markdown",
     "checksum": "401cd093fe9b768857049027e56ee6ba",
     "grade": false,
     "grade_id": "cell-0a3da54f5274eaec",
     "locked": true,
     "schema_version": 3,
     "solution": false,
     "task": false
    }
   },
   "source": [
    "## 1. Procesamiento de texto\n",
    "\n",
    "#### 1.1. Dataset"
   ]
  },
  {
   "cell_type": "code",
   "execution_count": 2,
   "metadata": {
    "deletable": false,
    "editable": false,
    "nbgrader": {
     "cell_type": "code",
     "checksum": "6692502ce20dc9d0ed106bf2ee6d85e6",
     "grade": false,
     "grade_id": "cell-f1661173475a08a5",
     "locked": true,
     "schema_version": 3,
     "solution": false,
     "task": false
    }
   },
   "outputs": [
    {
     "data": {
      "text/html": [
       "<div>\n",
       "<style scoped>\n",
       "    .dataframe tbody tr th:only-of-type {\n",
       "        vertical-align: middle;\n",
       "    }\n",
       "\n",
       "    .dataframe tbody tr th {\n",
       "        vertical-align: top;\n",
       "    }\n",
       "\n",
       "    .dataframe thead th {\n",
       "        text-align: right;\n",
       "    }\n",
       "</style>\n",
       "<table border=\"1\" class=\"dataframe\">\n",
       "  <thead>\n",
       "    <tr style=\"text-align: right;\">\n",
       "      <th></th>\n",
       "      <th>texto</th>\n",
       "      <th>polaridad</th>\n",
       "    </tr>\n",
       "  </thead>\n",
       "  <tbody>\n",
       "    <tr>\n",
       "      <th>857</th>\n",
       "      <td>Me encantaron las fechas envueltas en tocino.</td>\n",
       "      <td>positivo</td>\n",
       "    </tr>\n",
       "    <tr>\n",
       "      <th>981</th>\n",
       "      <td>Él vino corriendo detrás de nosotros cuando se...</td>\n",
       "      <td>positivo</td>\n",
       "    </tr>\n",
       "    <tr>\n",
       "      <th>626</th>\n",
       "      <td>Lo que DEBERÍA haber sido una cena de Nochebue...</td>\n",
       "      <td>negativo</td>\n",
       "    </tr>\n",
       "    <tr>\n",
       "      <th>866</th>\n",
       "      <td>Por el precio esto fue una gran oferta.</td>\n",
       "      <td>positivo</td>\n",
       "    </tr>\n",
       "    <tr>\n",
       "      <th>77</th>\n",
       "      <td>El micrófono allí es una broma, y ​​el volumen...</td>\n",
       "      <td>negativo</td>\n",
       "    </tr>\n",
       "  </tbody>\n",
       "</table>\n",
       "</div>"
      ],
      "text/plain": [
       "                                                 texto polaridad\n",
       "857      Me encantaron las fechas envueltas en tocino.  positivo\n",
       "981  Él vino corriendo detrás de nosotros cuando se...  positivo\n",
       "626  Lo que DEBERÍA haber sido una cena de Nochebue...  negativo\n",
       "866            Por el precio esto fue una gran oferta.  positivo\n",
       "77   El micrófono allí es una broma, y ​​el volumen...  negativo"
      ]
     },
     "execution_count": 2,
     "metadata": {},
     "output_type": "execute_result"
    }
   ],
   "source": [
    "# CELDA NO MODIFICABLE\n",
    "# Carga del dataset \n",
    "\n",
    "import pandas as pd\n",
    "                                      \n",
    "df = pd.read_csv('Laboratorio_Analisis_de_Sentimientos.csv', sep=',', header=0, index_col= None, engine='python', \n",
    "                 usecols=['texto','polaridad'])\n",
    "df.sample(5)\n",
    "\n",
    "# Como se observa el dataset contiene ejemplos de críticas con su respectiva polaridad."
   ]
  },
  {
   "cell_type": "markdown",
   "metadata": {
    "deletable": false,
    "editable": false,
    "nbgrader": {
     "cell_type": "markdown",
     "checksum": "302ad4a856feaf8b83738f14f2ec30c9",
     "grade": false,
     "grade_id": "cell-a5bc4e2d5978340c",
     "locked": true,
     "schema_version": 3,
     "solution": false,
     "task": false
    }
   },
   "source": [
    "**Pregunta 1 (10p):** Asigne a las variables texto_1000 y polaridad_1000, el texto y la polaridad de la crítica en el indice 1000 del dataset.\n"
   ]
  },
  {
   "cell_type": "code",
   "execution_count": 5,
   "metadata": {
    "deletable": false,
    "nbgrader": {
     "cell_type": "code",
     "checksum": "f5f5bfac88249a98804523fdd629b4eb",
     "grade": false,
     "grade_id": "cell-4563017d37cabe69",
     "locked": false,
     "schema_version": 3,
     "solution": true,
     "task": false
    }
   },
   "outputs": [],
   "source": [
    "# Por favor en esta celda conteste la Pregunta 1. Use los nombres de variables \n",
    "# especificados: texto_1000, y polaridad_1000.\n",
    "\n",
    "# your code here\n",
    "texto_1000 = df.loc[1000].texto\n",
    "polaridad_1000 = df.loc[1000].polaridad"
   ]
  },
  {
   "cell_type": "code",
   "execution_count": 6,
   "metadata": {
    "deletable": false,
    "editable": false,
    "nbgrader": {
     "cell_type": "code",
     "checksum": "bba828e62fb6d44a0d433f119dfac9b1",
     "grade": true,
     "grade_id": "cell-7a5a66495c776f13",
     "locked": true,
     "points": 10,
     "schema_version": 3,
     "solution": false,
     "task": false
    }
   },
   "outputs": [],
   "source": [
    "## PRUEBAS OCULTAS PARA CALIFICACIÓN PREGUNTA 1"
   ]
  },
  {
   "cell_type": "code",
   "execution_count": 7,
   "metadata": {
    "deletable": false,
    "editable": false,
    "nbgrader": {
     "cell_type": "code",
     "checksum": "18e6abc9fd932ff274617f3891e5b468",
     "grade": false,
     "grade_id": "cell-759590ec7a9b28ff",
     "locked": true,
     "schema_version": 3,
     "solution": false,
     "task": false
    }
   },
   "outputs": [
    {
     "name": "stdout",
     "output_type": "stream",
     "text": [
      "Crítica: Las verduras son tan frescas y la salsa se siente como auténtica tailandesa.\n",
      "Poralidad: positivo\n"
     ]
    }
   ],
   "source": [
    "# CELDA NO MODIFICABLE \n",
    "# Impresión de las variables para revisar su contenido.\n",
    "print(\"Crítica:\" , texto_1000)\n",
    "print(\"Poralidad:\", polaridad_1000)\n",
    "# Como se puede observar el comentario es claramente positivo."
   ]
  },
  {
   "cell_type": "code",
   "execution_count": 8,
   "metadata": {
    "deletable": false,
    "editable": false,
    "nbgrader": {
     "cell_type": "code",
     "checksum": "f66ec9dfda9a1b86a7dd03e26b2beecd",
     "grade": false,
     "grade_id": "cell-30fbdbfb918f3960",
     "locked": true,
     "schema_version": 3,
     "solution": false,
     "task": false
    }
   },
   "outputs": [
    {
     "data": {
      "text/plain": [
       "Text(3.674999999999997, 0.5, 'Número de Ejemplos')"
      ]
     },
     "execution_count": 8,
     "metadata": {},
     "output_type": "execute_result"
    },
    {
     "data": {
      "image/png": "[encoded data removed]",
      "text/plain": [
       "<Figure size 360x360 with 1 Axes>"
      ]
     },
     "metadata": {
      "needs_background": "light"
     },
     "output_type": "display_data"
    }
   ],
   "source": [
    "# CELDA NO MODIFICABLE \n",
    "# Veamos ahora la distribución de los ejemplos\n",
    "sns.catplot(x='polaridad', kind='count', color='r', data=df)\n",
    "plt.title('Distribución de Ejemplos')\n",
    "plt.xlabel('Polaridad')\n",
    "plt.ylabel('Número de Ejemplos')"
   ]
  },
  {
   "cell_type": "code",
   "execution_count": 9,
   "metadata": {
    "deletable": false,
    "editable": false,
    "nbgrader": {
     "cell_type": "code",
     "checksum": "efa4d9c643b94190a64f6779e00fb19f",
     "grade": false,
     "grade_id": "cell-184e55513890aa8a",
     "locked": true,
     "schema_version": 3,
     "solution": false,
     "task": false
    }
   },
   "outputs": [],
   "source": [
    "# CELDA NO MODIFICABLE \n",
    "# Esta función nos permite procesar el texto.\n",
    "'''\n",
    "* processing_text\n",
    "* @param texto str\n",
    "* @return processed_feature str\n",
    "'''\n",
    "def processing_text(texto):\n",
    "    # Paso 1: Remover con un expresión regular carateres especiales (no palabras).\n",
    "    processed_feature = re.sub(r'\\W', ' ', str(texto))\n",
    "    # Paso 2: Remover ocurrencias de caracteres individuales\n",
    "    processed_feature= re.sub(r'\\s+[a-zA-Z]\\s+', ' ', processed_feature)\n",
    "    processed_feature = re.sub(r'\\^[a-zA-Z]\\s+', ' ', processed_feature) \n",
    "    # Paso 3: Remover números (Ocurrencias muy esporádicas en nuestro dataset)\n",
    "    processed_feature = re.sub(r'[0-9]+', ' ', processed_feature)\n",
    "    # Paso 4: Simplificar espacios concecutivos a un único espacio entre palabras\n",
    "    processed_feature = re.sub(' +', ' ', processed_feature)\n",
    "    # Paso 5: Pasar todo el texto a minúsculas    \n",
    "    processed_feature = processed_feature.lower()\n",
    "    # Paso 6: Aplicar stemming. Es una forma de enviar las palabras a una raiz común simplificando de esta manera el vocabulario. \n",
    "    #         por ejemplo las palabras (absurdo, absurdos) que estan en el review 2895 seran llevados a la raiz común \"absurd\"\n",
    "    #         y de esta forma se evita tener dos palabras diferentes con el mismo significado en nuestro vocabulario.\n",
    "    processed_feature = \" \".join([stemmer.stem(i) for i in processed_feature.split()])\n",
    "    \n",
    "    return processed_feature"
   ]
  },
  {
   "cell_type": "markdown",
   "metadata": {},
   "source": [
    "**Pregunta 2 (10p):** Asigne a las variables \"texto_para_procesar\" y \"labels\" todas las criticas y sus respectivas polaridades  Pista: puede usar df['NOMBRE_COLUMNA'].values\n"
   ]
  },
  {
   "cell_type": "code",
   "execution_count": 10,
   "metadata": {
    "deletable": false,
    "nbgrader": {
     "cell_type": "code",
     "checksum": "00d97f66845b144525d0286b942efe35",
     "grade": false,
     "grade_id": "cell-742c55bf3bfb348c",
     "locked": false,
     "schema_version": 3,
     "solution": true,
     "task": false
    }
   },
   "outputs": [],
   "source": [
    "# Por favor en esta celda conteste la Pregunta 2. Use los nombres de variables \n",
    "# especificados: texto_para_procesar, y labels.\n",
    "\n",
    "# your code here\n",
    "texto_para_procesar = df['texto'].values\n",
    "labels = df['polaridad'].values"
   ]
  },
  {
   "cell_type": "code",
   "execution_count": 11,
   "metadata": {
    "deletable": false,
    "editable": false,
    "nbgrader": {
     "cell_type": "code",
     "checksum": "c10cf6d31c80699eb0cc0f82e5b9e116",
     "grade": true,
     "grade_id": "cell-49cb79e2bda37bde",
     "locked": true,
     "points": 10,
     "schema_version": 3,
     "solution": false,
     "task": false
    }
   },
   "outputs": [],
   "source": [
    "## PRUEBAS OCULTAS PARA CALIFICACIÓN PREGUNTA 2"
   ]
  },
  {
   "cell_type": "code",
   "execution_count": 12,
   "metadata": {
    "deletable": false,
    "editable": false,
    "nbgrader": {
     "cell_type": "code",
     "checksum": "d703c1dea87afeac1b8a4ef7a4f40f1e",
     "grade": false,
     "grade_id": "cell-06e065c2d1d6717d",
     "locked": true,
     "schema_version": 3,
     "solution": false,
     "task": false
    }
   },
   "outputs": [],
   "source": [
    "# CELDA NO MODIFICABLE \n",
    "# Se procede a procesar todas las críticas y almacenarlas en la variable texto_procesado\n",
    "texto_procesado = []\n",
    "for sentence in range(0, len(texto_para_procesar)):\n",
    "    procesado = processing_text(texto_para_procesar[sentence])\n",
    "    texto_procesado.append(procesado)"
   ]
  },
  {
   "cell_type": "markdown",
   "metadata": {
    "deletable": false,
    "editable": false,
    "nbgrader": {
     "cell_type": "markdown",
     "checksum": "0277b4228f332ecbb7c3b115bd918fc0",
     "grade": false,
     "grade_id": "cell-e20ba65749d731a5",
     "locked": true,
     "schema_version": 3,
     "solution": false,
     "task": false
    }
   },
   "source": [
    "## 2. Representación"
   ]
  },
  {
   "cell_type": "markdown",
   "metadata": {
    "deletable": false,
    "editable": false,
    "nbgrader": {
     "cell_type": "markdown",
     "checksum": "ce975bb3ebfdb36c38ef908be3f559a0",
     "grade": false,
     "grade_id": "cell-d9504a6fdf463108",
     "locked": true,
     "schema_version": 3,
     "solution": false,
     "task": false
    }
   },
   "source": [
    "**Pregunta 3 (10p):** Asigne a la \"variable texto_1000_procesado\" el texto resultante despues de procesar la crítica 1000. "
   ]
  },
  {
   "cell_type": "code",
   "execution_count": 13,
   "metadata": {
    "deletable": false,
    "nbgrader": {
     "cell_type": "code",
     "checksum": "2fe6364a47262777fe2de7eb527049a9",
     "grade": false,
     "grade_id": "cell-5d5dc1a0ba14fbdd",
     "locked": false,
     "schema_version": 3,
     "solution": true,
     "task": false
    }
   },
   "outputs": [],
   "source": [
    "# Por favor en esta celda conteste la Pregunta 3. Use los nombres de variables \n",
    "# especificados: texto_1000_procesado.\n",
    "\n",
    "# your code here\n",
    "texto_1000_procesado = texto_procesado[1000]"
   ]
  },
  {
   "cell_type": "code",
   "execution_count": 14,
   "metadata": {
    "deletable": false,
    "editable": false,
    "nbgrader": {
     "cell_type": "code",
     "checksum": "109999f4f0cbe6c2d643fdef026fd3e7",
     "grade": true,
     "grade_id": "cell-4071719ee2f36bd5",
     "locked": true,
     "points": 10,
     "schema_version": 3,
     "solution": false,
     "task": false
    }
   },
   "outputs": [],
   "source": [
    "## PRUEBAS OCULTAS PARA CALIFICACIÓN PREGUNTA 3\n"
   ]
  },
  {
   "cell_type": "code",
   "execution_count": 15,
   "metadata": {
    "deletable": false,
    "editable": false,
    "nbgrader": {
     "cell_type": "code",
     "checksum": "adf700b5c5584f091a0adc3dc1118cdf",
     "grade": false,
     "grade_id": "cell-a9b897d609af0cc2",
     "locked": true,
     "schema_version": 3,
     "solution": false,
     "task": false
    }
   },
   "outputs": [
    {
     "name": "stdout",
     "output_type": "stream",
     "text": [
      "las verdur son tan fresc la sals se sient com autent tailandes\n"
     ]
    }
   ],
   "source": [
    "# De esta forma se ve la crítica 1000 una vez procesada.\n",
    "print(texto_1000_procesado)"
   ]
  },
  {
   "cell_type": "markdown",
   "metadata": {
    "deletable": false,
    "editable": false,
    "nbgrader": {
     "cell_type": "markdown",
     "checksum": "75e4af5a732e4f2964d125a4b74551d3",
     "grade": false,
     "grade_id": "cell-f6ef973b04ce3e23",
     "locked": true,
     "schema_version": 3,
     "solution": false,
     "task": false
    }
   },
   "source": [
    "**Pregunta 4 (10p)** Haga uso de CountVectorizer para crear una representación de bolsa de palabras del texto. Use un vocabulario de 2000 términos. No contemple las palabras de parada dentro del vocabulario. Recuerde que puede acceder a la lista de palabras de parada en español con stopwords.words('spanish'). Siga la siguiente nomenclatura de variables:\n",
    "\n",
    "- \"vectorizer\" para la instancia de CountVectorizer\n",
    "- \"texto_features\" para almacenar la representación vectorial de las críticas. "
   ]
  },
  {
   "cell_type": "code",
   "execution_count": 17,
   "metadata": {
    "deletable": false,
    "nbgrader": {
     "cell_type": "code",
     "checksum": "cd962dc87828aa48a3d074dcd987e7ea",
     "grade": false,
     "grade_id": "cell-d3e2dfe6db68b62f",
     "locked": false,
     "schema_version": 3,
     "solution": true,
     "task": false
    }
   },
   "outputs": [],
   "source": [
    "# Por favor en esta celda conteste la Pregunta 4. Use los nombres de variables \n",
    "# especificados: vectorizer, texto_features.\n",
    "\n",
    "# your code here\n",
    "vectorizer = CountVectorizer(max_features=2000, stop_words=stopwords.words('spanish'))\n",
    "texto_features = vectorizer.fit_transform(texto_procesado).toarray()"
   ]
  },
  {
   "cell_type": "code",
   "execution_count": 18,
   "metadata": {
    "deletable": false,
    "editable": false,
    "nbgrader": {
     "cell_type": "code",
     "checksum": "513c58ba051026ad4842454f1e523662",
     "grade": true,
     "grade_id": "cell-17ff1a026dfecfca",
     "locked": true,
     "points": 10,
     "schema_version": 3,
     "solution": false,
     "task": false
    }
   },
   "outputs": [],
   "source": [
    "## PRUEBAS OCULTAS PARA CALIFICACIÓN PREGUNTA 4\n"
   ]
  },
  {
   "cell_type": "code",
   "execution_count": 19,
   "metadata": {
    "deletable": false,
    "editable": false,
    "nbgrader": {
     "cell_type": "code",
     "checksum": "e025e83207c909177d9a8e5367cd1396",
     "grade": false,
     "grade_id": "cell-a80e56e326cfef9f",
     "locked": true,
     "schema_version": 3,
     "solution": false,
     "task": false
    }
   },
   "outputs": [
    {
     "data": {
      "text/plain": [
       "['abaj',\n",
       " 'abismal',\n",
       " 'abre',\n",
       " 'abri',\n",
       " 'abrir',\n",
       " 'abrum',\n",
       " 'absolut',\n",
       " 'abstrus',\n",
       " 'abund',\n",
       " 'aburr',\n",
       " 'acab',\n",
       " 'acces',\n",
       " 'accion',\n",
       " 'aceit',\n",
       " 'acent',\n",
       " 'acept',\n",
       " 'acerc',\n",
       " 'acerqu',\n",
       " 'acert',\n",
       " 'achill']"
      ]
     },
     "execution_count": 19,
     "metadata": {},
     "output_type": "execute_result"
    }
   ],
   "source": [
    "# CELDA NO MODIFICABLE \n",
    "# Imprimamos los 20 primeros términos del vocabulario\n",
    "vectorizer.get_feature_names()[0:20]"
   ]
  },
  {
   "cell_type": "code",
   "execution_count": 20,
   "metadata": {
    "deletable": false,
    "editable": false,
    "nbgrader": {
     "cell_type": "code",
     "checksum": "a70a7c912d73870c06b50b8bc7e2248e",
     "grade": false,
     "grade_id": "cell-f624ef3dc7e06220",
     "locked": true,
     "schema_version": 3,
     "solution": false,
     "task": false
    }
   },
   "outputs": [
    {
     "name": "stdout",
     "output_type": "stream",
     "text": [
      "[0 1 0 0 0 0 1 0 0 0 0 0 0 0 1 0 0 0 0 0 0 0 0 0 0 0 0 0 0 0 0 0 0 0 0 0 0\n",
      " 0 0 0 0 0 0 0 0 0 0 0 0 0 0 0 0 0 0 0 0 0 0 0 0 0 0 0 0 0 0 0 0 0 0 0 0 0\n",
      " 0 0 0 0 0 0 0 0 0 0 0 0 0 0 0 0 0 0 0 0 0 0 0 0 0 0 0 0 0 0 0 0 0 0 0 0 0\n",
      " 0 0 0 0 0 0 0 0 0 0 0 0 0 0 0 0 0 0 0 0 0 0 0 0 0 0 0 0 0 0 0 0 0 0 0 0 0\n",
      " 0 0 0 0 0 0 0 0 0 0 0 0 0 0 0 0 0 0 0 0 0 0 0 0 0 0 0 0 0 0 0 0 0 0 0 0 0\n",
      " 0 0 0 0 0 0 0 0 0 0 0 0 0 0 0]\n"
     ]
    }
   ],
   "source": [
    "# Primeras 200 posiciones de la representación vectorial de la crítica número 39\n",
    "print(texto_features[39][0:200])"
   ]
  },
  {
   "cell_type": "markdown",
   "metadata": {
    "deletable": false,
    "editable": false,
    "nbgrader": {
     "cell_type": "markdown",
     "checksum": "00f257edead832132000a505ab545ea0",
     "grade": false,
     "grade_id": "cell-3bd66cd364785f25",
     "locked": true,
     "schema_version": 3,
     "solution": false,
     "task": false
    }
   },
   "source": [
    "**Pregunta 5 (20p)** Según la representación vectorial de la crítica número 39, cuantas veces ocurre el término abismal (raiz de abismales), y absolut (raiz de absolutamente)?\n",
    "\n",
    "Asigne los valores de ocurrencia a las variables \"num_abismal_critica_39\" y \"num_absolut_critica_39\" respectivamente.\n",
    "\n",
    "*Pista:* Búsque en el diccionario en que posiciones se encuentran las palabras de interés, luego búsque en la representación vectorial de la crítica 39 dichas posiciones."
   ]
  },
  {
   "cell_type": "code",
   "execution_count": 21,
   "metadata": {
    "deletable": false,
    "nbgrader": {
     "cell_type": "code",
     "checksum": "ee428cf1c8f261a03c65162152f52ca3",
     "grade": false,
     "grade_id": "cell-0bc9b24fb170d345",
     "locked": false,
     "schema_version": 3,
     "solution": true,
     "task": false
    }
   },
   "outputs": [],
   "source": [
    "# Por favor en esta celda conteste la Pregunta 5. Use los nombres de variables \n",
    "# especificados: num_abismal_critica_39, num_absolut_critica_39.\n",
    "\n",
    "# your code here\n",
    "num_abismal_critica_39 = 1\n",
    "num_absolut_critica_39 = 1"
   ]
  },
  {
   "cell_type": "code",
   "execution_count": 22,
   "metadata": {
    "deletable": false,
    "editable": false,
    "nbgrader": {
     "cell_type": "code",
     "checksum": "9a3d3189696075a92789df655d8d73d1",
     "grade": true,
     "grade_id": "cell-b8258aa60aa8993b",
     "locked": true,
     "points": 20,
     "schema_version": 3,
     "solution": false,
     "task": false
    }
   },
   "outputs": [],
   "source": [
    "## PRUEBAS OCULTAS PARA CALIFICACIÓN PREGUNTA 5"
   ]
  },
  {
   "cell_type": "markdown",
   "metadata": {
    "deletable": false,
    "editable": false,
    "nbgrader": {
     "cell_type": "markdown",
     "checksum": "04f9dbcd5ee71be211d3b18bb37f84ce",
     "grade": false,
     "grade_id": "cell-6f3b29634df26ca3",
     "locked": true,
     "schema_version": 3,
     "solution": false,
     "task": false
    }
   },
   "source": [
    "# 3. Modelamiento"
   ]
  },
  {
   "cell_type": "code",
   "execution_count": 25,
   "metadata": {
    "deletable": false,
    "editable": false,
    "nbgrader": {
     "cell_type": "code",
     "checksum": "29c5b8c6a42df77128a6784ca82b2afc",
     "grade": false,
     "grade_id": "cell-09e6fb5a849ddebe",
     "locked": true,
     "schema_version": 3,
     "solution": false,
     "task": false
    }
   },
   "outputs": [],
   "source": [
    "# CELDA NO MODIFICABLE \n",
    "# Dividimos nuestro dataset en entrenamiento (80%) y pruebas (20%)\n",
    "X_train, X_test, y_train, y_test = train_test_split(texto_features, labels, test_size=0.2, random_state=55)"
   ]
  },
  {
   "cell_type": "code",
   "execution_count": 24,
   "metadata": {
    "deletable": false,
    "editable": false,
    "nbgrader": {
     "cell_type": "code",
     "checksum": "4ab26a11d66daf87eaa81ce3161a3238",
     "grade": false,
     "grade_id": "cell-c4bb9877d6eeb43e",
     "locked": true,
     "schema_version": 3,
     "solution": false,
     "task": false
    }
   },
   "outputs": [],
   "source": [
    "# CELDA NO MODIFICABLE \n",
    "# Vamos a instanciar in modelo Naive Bayes.\n",
    "# Notese que solo esta instanciado pero no se ha entrenado con el dataset de entrenamiento. \n",
    "nb = MultinomialNB()"
   ]
  },
  {
   "cell_type": "markdown",
   "metadata": {
    "deletable": false,
    "editable": false,
    "nbgrader": {
     "cell_type": "markdown",
     "checksum": "3805549ad6232a4f0f030ccd5b3d371f",
     "grade": false,
     "grade_id": "cell-f41178f6ce8fd42d",
     "locked": true,
     "schema_version": 3,
     "solution": false,
     "task": false
    }
   },
   "source": [
    "**Pregunta 6 (10p)** Entrene el modelo de Naive Bayes usando el dataset de entrenamiento. \n",
    "\n",
    "*Pista:* Use el método fit."
   ]
  },
  {
   "cell_type": "code",
   "execution_count": 26,
   "metadata": {
    "deletable": false,
    "nbgrader": {
     "cell_type": "code",
     "checksum": "6859e7fd4bec3cbca308cd9b0800d5d9",
     "grade": false,
     "grade_id": "cell-71995acff49cc188",
     "locked": false,
     "schema_version": 3,
     "solution": true,
     "task": false
    }
   },
   "outputs": [
    {
     "data": {
      "text/plain": [
       "MultinomialNB(alpha=1.0, class_prior=None, fit_prior=True)"
      ]
     },
     "execution_count": 26,
     "metadata": {},
     "output_type": "execute_result"
    }
   ],
   "source": [
    "# Por favor en esta celda conteste la Pregunta 6. \n",
    "\n",
    "# your code here\n",
    "nb.fit(X_train, y_train)"
   ]
  },
  {
   "cell_type": "code",
   "execution_count": 27,
   "metadata": {
    "deletable": false,
    "editable": false,
    "nbgrader": {
     "cell_type": "code",
     "checksum": "c6d810f116943fa38bc6fd459c70ba2c",
     "grade": true,
     "grade_id": "cell-4df49d8a35fe1c67",
     "locked": true,
     "points": 10,
     "schema_version": 3,
     "solution": false,
     "task": false
    }
   },
   "outputs": [],
   "source": [
    "## PRUEBAS OCULTAS PARA CALIFICACIÓN PREGUNTA 6"
   ]
  },
  {
   "cell_type": "markdown",
   "metadata": {},
   "source": [
    "**Pregunta 7 (10p)** Evalue el modelo entrenado en el conjunto de prueba y obtenga el accuracy resultante. Asigne las predicciones en la variable \"predictions\" y la métrica de accuracy en la variable \"accuracy_result\".\n",
    "\n",
    "*Pista:* Use el método predict sobre el dataset de pruebas y le método accuracy_score para calcular el accuracy.\n"
   ]
  },
  {
   "cell_type": "code",
   "execution_count": 31,
   "metadata": {
    "deletable": false,
    "nbgrader": {
     "cell_type": "code",
     "checksum": "38cd2f4fe4c465dde74edbbe0dc2d942",
     "grade": false,
     "grade_id": "cell-888d2811b80338d7",
     "locked": false,
     "schema_version": 3,
     "solution": true,
     "task": false
    }
   },
   "outputs": [],
   "source": [
    "# Por favor en esta celda conteste la Pregunta 7. Use los nombres de variables \n",
    "# especificados: predictions, accuracy_result.\n",
    "\n",
    "# your code here\n",
    "predictions = nb.predict(X_test)\n",
    "accuracy_result = accuracy_score(y_test, predictions)"
   ]
  },
  {
   "cell_type": "code",
   "execution_count": 32,
   "metadata": {
    "deletable": false,
    "editable": false,
    "nbgrader": {
     "cell_type": "code",
     "checksum": "a48592089328d930d52275ec8ce832a6",
     "grade": true,
     "grade_id": "cell-1ae69e4c6982c583",
     "locked": true,
     "points": 10,
     "schema_version": 3,
     "solution": false,
     "task": false
    }
   },
   "outputs": [],
   "source": [
    "## PRUEBAS OCULTAS PARA CALIFICACIÓN PREGUNTA 7"
   ]
  },
  {
   "cell_type": "code",
   "execution_count": 33,
   "metadata": {
    "deletable": false,
    "editable": false,
    "nbgrader": {
     "cell_type": "code",
     "checksum": "4182aed327a51f7bb58d5ed8defb9d5a",
     "grade": false,
     "grade_id": "cell-8a87650f42406355",
     "locked": true,
     "schema_version": 3,
     "solution": false,
     "task": false
    }
   },
   "outputs": [
    {
     "name": "stdout",
     "output_type": "stream",
     "text": [
      "0.8133333333333334\n"
     ]
    }
   ],
   "source": [
    "# Revisemos el accuracy obtenido\n",
    "print(accuracy_result)"
   ]
  },
  {
   "cell_type": "markdown",
   "metadata": {
    "deletable": false,
    "editable": false,
    "nbgrader": {
     "cell_type": "markdown",
     "checksum": "4ebd5f80d9d1d1789e0135e5d327a9ba",
     "grade": false,
     "grade_id": "cell-1029df78d51060e7",
     "locked": true,
     "schema_version": 3,
     "solution": false,
     "task": false
    }
   },
   "source": [
    "**Pregunta 8 (20p)** Utilice el modelo para predecir la polaridad de la frase \"El producto no cumple con mis expectativas\". Realice las siguientes etapas:\n",
    "\n",
    "- Asigne en la variable \"test_procesado\", el resultado de la etapa de procesamiento.\n",
    "- Asigne en la variable \"test_bow\", la representación en bolsa de palabras del texto.\n",
    "- Asigne en la variable clase_test, el resultado de la predicción (i.e. la polaridad que se le es asignada a la frase)\n"
   ]
  },
  {
   "cell_type": "code",
   "execution_count": 34,
   "metadata": {
    "deletable": false,
    "nbgrader": {
     "cell_type": "code",
     "checksum": "b53939046e30b1ad1c5d6a7496033d9f",
     "grade": false,
     "grade_id": "cell-46fa1f3f773930b2",
     "locked": false,
     "schema_version": 3,
     "solution": true,
     "task": false
    }
   },
   "outputs": [],
   "source": [
    "# Por favor en esta celda conteste la Pregunta 8. \n",
    "test = \"El producto no cumple con mis expectativas\" #No cambie la frase, esto puede afectar la calificación automática.\n",
    "\n",
    "# your code here\n",
    "test_procesado = processing_text(test)\n",
    "test_bow = vectorizer.transform([test_procesado])\n",
    "clase_test = nb.predict(test_bow)"
   ]
  },
  {
   "cell_type": "code",
   "execution_count": 35,
   "metadata": {
    "deletable": false,
    "editable": false,
    "nbgrader": {
     "cell_type": "code",
     "checksum": "6aeefb10af1cbca6371928bade4c837d",
     "grade": true,
     "grade_id": "cell-4135e6fb75f7b062",
     "locked": true,
     "points": 20,
     "schema_version": 3,
     "solution": false,
     "task": false
    }
   },
   "outputs": [],
   "source": [
    "## PRUEBAS OCULTAS PARA CALIFICACIÓN PREGUNTA 8"
   ]
  },
  {
   "cell_type": "code",
   "execution_count": 36,
   "metadata": {
    "deletable": false,
    "editable": false,
    "nbgrader": {
     "cell_type": "code",
     "checksum": "3c0a3823bca794b74113448cf6df2807",
     "grade": false,
     "grade_id": "cell-54cb30633df7efba",
     "locked": true,
     "schema_version": 3,
     "solution": false,
     "task": false
    }
   },
   "outputs": [
    {
     "name": "stdout",
     "output_type": "stream",
     "text": [
      "Crítica test: El producto no cumple con mis expectativas\n",
      "Crítica test: ['negativo']\n"
     ]
    }
   ],
   "source": [
    "# Finalmente imprimamos nuestra frase de test y la polaridad predicha por nuestro\n",
    "# modelo de naive bayes.\n",
    "\n",
    "print(\"Crítica test:\", test)\n",
    "print(\"Crítica test:\", clase_test)"
   ]
  },
  {
   "cell_type": "code",
   "execution_count": null,
   "metadata": {},
   "outputs": [],
   "source": []
  }
 ],
 "metadata": {
  "kernelspec": {
   "display_name": "Python 3",
   "language": "python",
   "name": "python3"
  },
  "language_info": {
   "codemirror_mode": {
    "name": "ipython",
    "version": 3
   },
   "file_extension": ".py",
   "mimetype": "text/x-python",
   "name": "python",
   "nbconvert_exporter": "python",
   "pygments_lexer": "ipython3",
   "version": "3.7.6"
  }
 },
 "nbformat": 4,
 "nbformat_minor": 5
}
